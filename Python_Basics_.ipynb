{
  "nbformat": 4,
  "nbformat_minor": 0,
  "metadata": {
    "colab": {
      "provenance": []
    },
    "kernelspec": {
      "name": "python3",
      "display_name": "Python 3"
    },
    "language_info": {
      "name": "python"
    }
  },
  "cells": [
    {
      "cell_type": "code",
      "execution_count": 16,
      "metadata": {
        "colab": {
          "base_uri": "https://localhost:8080/"
        },
        "id": "7KiQ1BE7w7e_",
        "outputId": "61f8bcec-9c41-4c94-9ecd-8b562f982f2d"
      },
      "outputs": [
        {
          "output_type": "stream",
          "name": "stdout",
          "text": [
            "Python Basic\n"
          ]
        }
      ],
      "source": [
        "print(\"Python Basic\")"
      ]
    },
    {
      "cell_type": "markdown",
      "source": [
        "**Answer Sheet**\n",
        "\n",
        "**1. What is Python, and why is it popular?**  \n",
        "Python is a high-level, interpreted programming language known for its simplicity and readability. It is popular due to its extensive libraries, ease of use, and wide applicability in fields like web development, data science, and automation.\n",
        "\n",
        "**2. What is an interpreter in Python?**  \n",
        "An interpreter in Python is a program that executes Python code line by line, converting it into machine code. This allows for easier debugging and cross-platform compatibility.\n",
        "\n",
        "**3. What are pre-defined keywords in Python?**  \n",
        "Pre-defined keywords are reserved words in Python that have a specific meaning and cannot be used for other purposes, such as `if`, `else`, `while`, `def`, and `return`.\n",
        "\n",
        "**4. Can keywords be used as variable names?**  \n",
        "No, keywords cannot be used as variable names because they have a predefined purpose in Python.\n",
        "\n",
        "**5. What is mutability in Python?**  \n",
        "Mutability refers to the ability of an object to be modified after its creation. Mutable objects can change their values, while immutable objects cannot.\n",
        "\n",
        "**6. Why are lists mutable, but tuples are immutable?**  \n",
        "Lists are mutable because they allow modifications, such as adding, removing, or updating elements. Tuples, on the other hand, are immutable, meaning their elements cannot be changed once assigned.\n",
        "\n",
        "**7. What is the difference between “==” and “is” operators in Python?**  \n",
        "- `==` checks for value equality, meaning it compares whether two objects have the same value.  \n",
        "- `is` checks for identity equality, meaning it verifies whether two variables refer to the same object in memory.\n",
        "\n",
        "**8. What are logical operators in Python?**  \n",
        "Logical operators in Python include:  \n",
        "- `and` – Returns True if both conditions are True  \n",
        "- `or` – Returns True if at least one condition is True  \n",
        "- `not` – Returns the opposite of the given condition\n",
        "\n",
        "**9. What is type casting in Python?**  \n",
        "Type casting is the process of converting one data type into another, such as converting a string to an integer using `int()`.\n",
        "\n",
        "**10. What is the difference between implicit and explicit type casting?**  \n",
        "- **Implicit type casting** is automatically handled by Python, such as converting an integer to a float.  \n",
        "- **Explicit type casting** is manually done by the programmer using functions like `int()`, `float()`, or `str()`.\n",
        "\n",
        "**11. What is the purpose of conditional statements in Python?**  \n",
        "Conditional statements control the flow of execution based on conditions. They allow Python programs to make decisions using statements like `if`, `elif`, and `else`.\n",
        "\n",
        "**12. How does the elif statement work?**  \n",
        "The `elif` statement checks multiple conditions sequentially. If the first `if` condition is False, Python checks the `elif` conditions. If one evaluates to True, the corresponding block executes.\n",
        "\n",
        "**13 What is the difference between for and while loops?**  \n",
        "- A `for` loop is used when the number of iterations is known beforehand.  \n",
        "- A `while` loop is used when the number of iterations depends on a condition.\n",
        "\n",
        "**14. Describe a scenario where a while loop is more suitable than a for loop.**  \n",
        "A `while` loop is more suitable when the number of iterations is unknown beforehand. For example, in a program that keeps asking for user input until they enter a valid password, a `while` loop is ideal.\n"
      ],
      "metadata": {
        "id": "xOES87YYw_yF"
      }
    },
    {
      "cell_type": "code",
      "source": [],
      "metadata": {
        "id": "jDCM8o-MycvY"
      },
      "execution_count": null,
      "outputs": []
    },
    {
      "cell_type": "markdown",
      "source": [
        "Practical question"
      ],
      "metadata": {
        "id": "xo2mJkw5ycbn"
      }
    },
    {
      "cell_type": "code",
      "source": [
        "# Write a Python program to print \"Hello, World!\"\n",
        "print(\"Hello, World!\")"
      ],
      "metadata": {
        "colab": {
          "base_uri": "https://localhost:8080/"
        },
        "id": "Mqy8gu5P1FIN",
        "outputId": "a666c462-1ed7-4531-cd60-37e702eae8a8"
      },
      "execution_count": 1,
      "outputs": [
        {
          "output_type": "stream",
          "name": "stdout",
          "text": [
            "Hello, World!\n"
          ]
        }
      ]
    },
    {
      "cell_type": "code",
      "source": [
        "# Write a Python program that displays your name and age\n",
        "name = \"John Doe\"\n",
        "age = 25\n",
        "print(\"Name:\", name)\n",
        "print(\"Age:\", age)\n"
      ],
      "metadata": {
        "colab": {
          "base_uri": "https://localhost:8080/"
        },
        "id": "N4MJZlfF1FEV",
        "outputId": "191f96df-57ef-46c5-a062-fb4704e90a43"
      },
      "execution_count": 2,
      "outputs": [
        {
          "output_type": "stream",
          "name": "stdout",
          "text": [
            "Name: John Doe\n",
            "Age: 25\n"
          ]
        }
      ]
    },
    {
      "cell_type": "code",
      "source": [
        "#  Write code to print all the pre-defined keywords in Python using the keyword library\n",
        "import keyword\n",
        "print(keyword.kwlist)"
      ],
      "metadata": {
        "colab": {
          "base_uri": "https://localhost:8080/"
        },
        "id": "C_YIqR651E9t",
        "outputId": "4811a9a2-2392-4921-f22b-9a3c3f497f40"
      },
      "execution_count": 3,
      "outputs": [
        {
          "output_type": "stream",
          "name": "stdout",
          "text": [
            "['False', 'None', 'True', 'and', 'as', 'assert', 'async', 'await', 'break', 'class', 'continue', 'def', 'del', 'elif', 'else', 'except', 'finally', 'for', 'from', 'global', 'if', 'import', 'in', 'is', 'lambda', 'nonlocal', 'not', 'or', 'pass', 'raise', 'return', 'try', 'while', 'with', 'yield']\n"
          ]
        }
      ]
    },
    {
      "cell_type": "code",
      "source": [
        "# Write a program that checks if a given word is a Python keyword\n",
        "import keyword\n",
        "word = input(\"Enter a word: \")\n",
        "if keyword.iskeyword(word):\n",
        "    print(f\"'{word}' is a Python keyword.\")\n",
        "else:\n",
        "    print(f\"'{word}' is not a Python keyword.\")\n"
      ],
      "metadata": {
        "colab": {
          "base_uri": "https://localhost:8080/"
        },
        "id": "txNjcRBx1E6q",
        "outputId": "bd7fddd6-20e3-47b4-c5c7-e21f4d31e6e4"
      },
      "execution_count": 4,
      "outputs": [
        {
          "output_type": "stream",
          "name": "stdout",
          "text": [
            "Enter a word: rajeev\n",
            "'rajeev' is not a Python keyword.\n"
          ]
        }
      ]
    },
    {
      "cell_type": "code",
      "source": [
        "#  Create a list and tuple in Python, and demonstrate how attempting to change an element works differently\n",
        "my_list = [1, 2, 3]\n",
        "my_tuple = (1, 2, 3)\n",
        "\n",
        "my_list[0] = 10  # This works because lists are mutable\n",
        "print(\"Modified List:\", my_list)\n",
        "try:\n",
        "    my_tuple[0] = 10  # This will raise an error because tuples are immutable\n",
        "except TypeError as e:\n",
        "    print(\"Error:\", e)"
      ],
      "metadata": {
        "colab": {
          "base_uri": "https://localhost:8080/"
        },
        "id": "GEcq2CQ-1E3O",
        "outputId": "9447c376-bf45-4ade-823d-9b2ab6f58848"
      },
      "execution_count": 5,
      "outputs": [
        {
          "output_type": "stream",
          "name": "stdout",
          "text": [
            "Modified List: [10, 2, 3]\n",
            "Error: 'tuple' object does not support item assignment\n"
          ]
        }
      ]
    },
    {
      "cell_type": "code",
      "source": [
        "# Write a function to demonstrate the behavior of mutable and immutable arguments\n",
        "def modify_values(mutable_list, immutable_int):\n",
        "    mutable_list.append(4)  # Modifies the list\n",
        "    immutable_int += 1  # Creates a new integer object\n",
        "    print(\"Inside function - List:\", mutable_list)\n",
        "    print(\"Inside function - Integer:\", immutable_int)\n",
        "\n",
        "lst = [1, 2, 3]\n",
        "num = 10\n",
        "modify_values(lst, num)\n",
        "print(\"Outside function - List:\", lst)  # List is modified\n",
        "print(\"Outside function - Integer:\", num)  # Integer remains unchanged"
      ],
      "metadata": {
        "colab": {
          "base_uri": "https://localhost:8080/"
        },
        "id": "nN_fGzVw1TqR",
        "outputId": "aec493a8-0a54-455a-a513-2d8a0d3fe03c"
      },
      "execution_count": 6,
      "outputs": [
        {
          "output_type": "stream",
          "name": "stdout",
          "text": [
            "Inside function - List: [1, 2, 3, 4]\n",
            "Inside function - Integer: 11\n",
            "Outside function - List: [1, 2, 3, 4]\n",
            "Outside function - Integer: 10\n"
          ]
        }
      ]
    },
    {
      "cell_type": "code",
      "source": [
        "\n",
        "# Write a program to demonstrate the use of logical operators\n",
        "a, b, c = 5, 10, 15\n",
        "print(a > 0 and b > 0)  # True\n",
        "print(a > 10 or b > 10)  # False\n",
        "print(not (c < 20))  # False\n"
      ],
      "metadata": {
        "colab": {
          "base_uri": "https://localhost:8080/"
        },
        "id": "I_lqWon11TnZ",
        "outputId": "0c92ebaa-f8b8-4099-faeb-bfb34ec17842"
      },
      "execution_count": 7,
      "outputs": [
        {
          "output_type": "stream",
          "name": "stdout",
          "text": [
            "True\n",
            "False\n",
            "False\n"
          ]
        }
      ]
    },
    {
      "cell_type": "code",
      "source": [
        "#  Write a Python program to convert user input from string to integer, float, and boolean types\n",
        "user_input = input(\"Enter a value: \")\n",
        "int_value = int(user_input)\n",
        "float_value = float(user_input)\n",
        "bool_value = bool(int(user_input))\n",
        "print(\"Integer:\", int_value, \"Float:\", float_value, \"Boolean:\", bool_value)"
      ],
      "metadata": {
        "colab": {
          "base_uri": "https://localhost:8080/"
        },
        "id": "WYIcoWeo1TkI",
        "outputId": "f3528d1b-1542-43a0-f627-7daf70de76a7"
      },
      "execution_count": 8,
      "outputs": [
        {
          "output_type": "stream",
          "name": "stdout",
          "text": [
            "Enter a value: 10\n",
            "Integer: 10 Float: 10.0 Boolean: True\n"
          ]
        }
      ]
    },
    {
      "cell_type": "code",
      "source": [
        "# Write code to demonstrate type casting with list elements\n",
        "str_list = [\"1\", \"2\", \"3\"]\n",
        "int_list = list(map(int, str_list))\n",
        "print(\"Converted list:\", int_list)"
      ],
      "metadata": {
        "colab": {
          "base_uri": "https://localhost:8080/"
        },
        "id": "6Z0X2I4Z1Tgx",
        "outputId": "0e3cf184-d525-4abe-a0b5-0e58877e41d9"
      },
      "execution_count": 9,
      "outputs": [
        {
          "output_type": "stream",
          "name": "stdout",
          "text": [
            "Converted list: [1, 2, 3]\n"
          ]
        }
      ]
    },
    {
      "cell_type": "code",
      "source": [
        "\n",
        "# Write a program that checks if a number is positive, negative, or zero\n",
        "num = int(input(\"Enter a number: \"))\n",
        "if num > 0:\n",
        "    print(\"Positive number\")\n",
        "elif num < 0:\n",
        "    print(\"Negative number\")\n",
        "else:\n",
        "    print(\"Zero\")"
      ],
      "metadata": {
        "colab": {
          "base_uri": "https://localhost:8080/"
        },
        "id": "yWvPBTT41mJp",
        "outputId": "2b8f6c5e-e73b-49dd-f4cf-86d2f9474ee9"
      },
      "execution_count": 10,
      "outputs": [
        {
          "output_type": "stream",
          "name": "stdout",
          "text": [
            "Enter a number: 3\n",
            "Positive number\n"
          ]
        }
      ]
    },
    {
      "cell_type": "code",
      "source": [
        "# Write a for loop to print numbers from 1 to 100\n",
        "for i in range(1, 101):\n",
        "    print(i, end=\" \")"
      ],
      "metadata": {
        "colab": {
          "base_uri": "https://localhost:8080/"
        },
        "id": "G5pQkQbI1mGn",
        "outputId": "d9d5314c-b26b-48ff-d0b8-cc104a8050f6"
      },
      "execution_count": 11,
      "outputs": [
        {
          "output_type": "stream",
          "name": "stdout",
          "text": [
            "1 2 3 4 5 6 7 8 9 10 11 12 13 14 15 16 17 18 19 20 21 22 23 24 25 26 27 28 29 30 31 32 33 34 35 36 37 38 39 40 41 42 43 44 45 46 47 48 49 50 51 52 53 54 55 56 57 58 59 60 61 62 63 64 65 66 67 68 69 70 71 72 73 74 75 76 77 78 79 80 81 82 83 84 85 86 87 88 89 90 91 92 93 94 95 96 97 98 99 100 "
          ]
        }
      ]
    },
    {
      "cell_type": "code",
      "source": [
        "# Write a Python program to find the sum of all even numbers between 1 and 500\n",
        "sum_even = sum(num for num in range(1, 501) if num % 2 == 0)\n",
        "print(\"Sum of even numbers:\", sum_even)"
      ],
      "metadata": {
        "colab": {
          "base_uri": "https://localhost:8080/"
        },
        "id": "9d10P_ZE1wOm",
        "outputId": "1f7a7b52-4bef-464e-9139-3dcf31f25ab9"
      },
      "execution_count": 12,
      "outputs": [
        {
          "output_type": "stream",
          "name": "stdout",
          "text": [
            "Sum of even numbers: 62750\n"
          ]
        }
      ]
    },
    {
      "cell_type": "code",
      "source": [
        "#  Write a program to reverse a string using a while loop\n",
        "string = input(\"Enter a string: \")\n",
        "reversed_string = \"\"\n",
        "i = len(string) - 1\n",
        "while i >= 0:\n",
        "    reversed_string += string[i]\n",
        "    i -= 1\n",
        "print(\"Reversed String:\", reversed_string)"
      ],
      "metadata": {
        "colab": {
          "base_uri": "https://localhost:8080/"
        },
        "id": "oUH1Ec7m1wAG",
        "outputId": "394c7f87-023e-4b33-ba05-a4d267ba417b"
      },
      "execution_count": 13,
      "outputs": [
        {
          "output_type": "stream",
          "name": "stdout",
          "text": [
            "Enter a string: rajeevprajapat\n",
            "Reversed String: tapajarpveejar\n"
          ]
        }
      ]
    },
    {
      "cell_type": "code",
      "source": [
        "# Write a Python program to calculate the factorial of a number provided by the user using a while loop\n",
        "num = int(input(\"Enter a number: \"))\n",
        "factorial = 1\n",
        "i = 1\n",
        "while i <= num:\n",
        "    factorial *= i\n",
        "    i += 1\n",
        "print(f\"Factorial of {num} is {factorial}\")"
      ],
      "metadata": {
        "colab": {
          "base_uri": "https://localhost:8080/"
        },
        "id": "xlKtqNalxv4Q",
        "outputId": "163ef2e8-385a-4d8f-84bd-5944ec12f80f"
      },
      "execution_count": 14,
      "outputs": [
        {
          "output_type": "stream",
          "name": "stdout",
          "text": [
            "Enter a number: 4\n",
            "Factorial of 4 is 24\n"
          ]
        }
      ]
    },
    {
      "cell_type": "code",
      "source": [],
      "metadata": {
        "id": "P_cjuytO15lh"
      },
      "execution_count": 14,
      "outputs": []
    }
  ]
}